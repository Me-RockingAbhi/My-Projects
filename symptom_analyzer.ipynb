{
  "nbformat": 4,
  "nbformat_minor": 0,
  "metadata": {
    "colab": {
      "name": "symptom_analyzer.ipynb",
      "provenance": [],
      "collapsed_sections": [],
      "authorship_tag": "ABX9TyPORkbTFmm8kn/45t/r0HOr",
      "include_colab_link": true
    },
    "kernelspec": {
      "name": "python3",
      "display_name": "Python 3"
    }
  },
  "cells": [
    {
      "cell_type": "markdown",
      "metadata": {
        "id": "view-in-github",
        "colab_type": "text"
      },
      "source": [
        "<a href=\"https://colab.research.google.com/github/Me-RockingAbhi/My-Projects/blob/master/symptom_analyzer.ipynb\" target=\"_parent\"><img src=\"https://colab.research.google.com/assets/colab-badge.svg\" alt=\"Open In Colab\"/></a>"
      ]
    },
    {
      "cell_type": "code",
      "metadata": {
        "id": "qdIX8IqZk2vd",
        "colab_type": "code",
        "outputId": "bacdc47f-f47e-45d8-8aca-596ee0b4c3bb",
        "colab": {
          "base_uri": "https://localhost:8080/",
          "height": 121
        }
      },
      "source": [
        "from google.colab import drive\n",
        "drive.mount(\"/content/gdrive\")"
      ],
      "execution_count": 0,
      "outputs": [
        {
          "output_type": "stream",
          "text": [
            "Go to this URL in a browser: https://accounts.google.com/o/oauth2/auth?client_id=947318989803-6bn6qk8qdgf4n4g3pfee6491hc0brc4i.apps.googleusercontent.com&redirect_uri=urn%3aietf%3awg%3aoauth%3a2.0%3aoob&response_type=code&scope=email%20https%3a%2f%2fwww.googleapis.com%2fauth%2fdocs.test%20https%3a%2f%2fwww.googleapis.com%2fauth%2fdrive%20https%3a%2f%2fwww.googleapis.com%2fauth%2fdrive.photos.readonly%20https%3a%2f%2fwww.googleapis.com%2fauth%2fpeopleapi.readonly\n",
            "\n",
            "Enter your authorization code:\n",
            "··········\n",
            "Mounted at /content/gdrive\n"
          ],
          "name": "stdout"
        }
      ]
    },
    {
      "cell_type": "code",
      "metadata": {
        "id": "DCSFXtEGlfga",
        "colab_type": "code",
        "outputId": "ba88dddf-aa33-4c82-d0ce-f5a69a60ca84",
        "colab": {
          "base_uri": "https://localhost:8080/",
          "height": 34
        }
      },
      "source": [
        "import pandas as pd\n",
        "import numpy as np\n",
        "data=pd.read_excel(\"/content/gdrive/My Drive/projet12.xlsx\")\n",
        "data.shape"
      ],
      "execution_count": 0,
      "outputs": [
        {
          "output_type": "execute_result",
          "data": {
            "text/plain": [
              "(1094, 13)"
            ]
          },
          "metadata": {
            "tags": []
          },
          "execution_count": 2
        }
      ]
    },
    {
      "cell_type": "code",
      "metadata": {
        "id": "Z7TSiw1z64SB",
        "colab_type": "code",
        "colab": {}
      },
      "source": [
        "for i in data['Allergy']:\n",
        "  print(i)"
      ],
      "execution_count": 0,
      "outputs": []
    },
    {
      "cell_type": "code",
      "metadata": {
        "id": "h5brDGRE6wHZ",
        "colab_type": "code",
        "colab": {}
      },
      "source": [
        "from sklearn.utils import shuffle\n",
        "data=shuffle(data)\n",
        "for i in data['Allergy']:\n",
        "  print(i)"
      ],
      "execution_count": 0,
      "outputs": []
    },
    {
      "cell_type": "code",
      "metadata": {
        "id": "g0HjVj0Llt9A",
        "colab_type": "code",
        "colab": {}
      },
      "source": [
        "data.isnull().sum()\n",
        "l=[]\n",
        "for i in data['travel_history_to_country']:\n",
        "  if(pd.isnull(i)==True):\n",
        "    l.append('none')\n",
        "  else:\n",
        "    l.append(i)\n",
        "data['travel_history_to_country']=l\n",
        "l=[]\n",
        "for i in data[\"date_of_visit\"]:\n",
        "  if(pd.isnull(i)==True):\n",
        "    l.append('none')\n",
        "  else:\n",
        "    l.append(i)\n",
        "data['date_of_visit']=l\n"
      ],
      "execution_count": 0,
      "outputs": []
    },
    {
      "cell_type": "code",
      "metadata": {
        "id": "kvzaAp5ZmXhl",
        "colab_type": "code",
        "colab": {}
      },
      "source": [
        "data.info()\n",
        "data['Disease']=data['Allergy']\n",
        "data=data.drop('Allergy',axis=1)\n",
        "data.head()"
      ],
      "execution_count": 0,
      "outputs": []
    },
    {
      "cell_type": "code",
      "metadata": {
        "id": "cMQ9EMT8rRRm",
        "colab_type": "code",
        "colab": {}
      },
      "source": [
        "data['sleep_disruption']=data['disruption_of_sleep']\n",
        "data=data.drop('disruption_of_sleep',axis=1)\n"
      ],
      "execution_count": 0,
      "outputs": []
    },
    {
      "cell_type": "code",
      "metadata": {
        "id": "3-Ep3OtrquL1",
        "colab_type": "code",
        "colab": {}
      },
      "source": [
        "from sklearn.preprocessing import LabelEncoder\n",
        "le=LabelEncoder()\n",
        "data['genetics_factor']=le.fit_transform(data['genetics_factor'])\n",
        "le=LabelEncoder()\n",
        "data['blood_transfusion']=le.fit_transform(data['blood_transfusion'])\n",
        "le=LabelEncoder()\n",
        "data['Disease']=le.fit_transform(data['Disease'])\n",
        "le=LabelEncoder()\n",
        "data['sleep_disruption']=le.fit_transform(data['sleep_disruption'])\n",
        "le=LabelEncoder()\n",
        "data['travel_history_to_country']=le.fit_transform(data['travel_history_to_country'])\n"
      ],
      "execution_count": 0,
      "outputs": []
    },
    {
      "cell_type": "code",
      "metadata": {
        "id": "-Zq6aRvvrmsp",
        "colab_type": "code",
        "outputId": "278dfce8-3752-4e6f-c3b3-8787500f20c6",
        "colab": {
          "base_uri": "https://localhost:8080/",
          "height": 353
        }
      },
      "source": [
        "le=LabelEncoder()\n",
        "data['gender']=le.fit_transform(data['gender'])\n",
        "data.info()"
      ],
      "execution_count": 0,
      "outputs": [
        {
          "output_type": "stream",
          "text": [
            "<class 'pandas.core.frame.DataFrame'>\n",
            "Int64Index: 1094 entries, 450 to 708\n",
            "Data columns (total 13 columns):\n",
            " #   Column                     Non-Null Count  Dtype \n",
            "---  ------                     --------------  ----- \n",
            " 0   travel_history_to_country  1094 non-null   int64 \n",
            " 1   date_of_visit              1094 non-null   object\n",
            " 2   Symptoms                   1094 non-null   object\n",
            " 3   past_history_of_diseases   1094 non-null   object\n",
            " 4   genetics_factor            1094 non-null   int64 \n",
            " 5   blood_presure              1094 non-null   object\n",
            " 6   emotional_problems         1094 non-null   object\n",
            " 7   change_in_skin_color       1094 non-null   object\n",
            " 8   blood_transfusion          1094 non-null   int64 \n",
            " 9   age                        1094 non-null   int64 \n",
            " 10  gender                     1094 non-null   int64 \n",
            " 11  Disease                    1094 non-null   int64 \n",
            " 12  sleep_disruption           1094 non-null   int64 \n",
            "dtypes: int64(7), object(6)\n",
            "memory usage: 119.7+ KB\n"
          ],
          "name": "stdout"
        }
      ]
    },
    {
      "cell_type": "code",
      "metadata": {
        "id": "44X215Gk_Kaw",
        "colab_type": "code",
        "colab": {}
      },
      "source": [
        "l=[]\n",
        "for i in data['date_of_visit']:\n",
        "  if(i!='none' and i!='None'):\n",
        "    name=str(i).split('-')[0]\n",
        "    l.append(name)\n",
        "  elif(i=='None'):\n",
        "    l.append('none')\n",
        "  else:\n",
        "    l.append(i)\n",
        "data['date_of_visit']=l\n",
        "le=LabelEncoder()\n",
        "data['date_of_visit']=le.fit_transform(data['date_of_visit'])"
      ],
      "execution_count": 0,
      "outputs": []
    },
    {
      "cell_type": "code",
      "metadata": {
        "id": "mN1rLGaW2wRQ",
        "colab_type": "code",
        "colab": {}
      },
      "source": [
        ""
      ],
      "execution_count": 0,
      "outputs": []
    },
    {
      "cell_type": "code",
      "metadata": {
        "id": "3gQuUUiF7Wuj",
        "colab_type": "code",
        "colab": {}
      },
      "source": [
        "ytrain=data['Disease']\n",
        "data=data.drop('Disease',axis=1)"
      ],
      "execution_count": 0,
      "outputs": []
    },
    {
      "cell_type": "code",
      "metadata": {
        "id": "Eu3KOWkLr603",
        "colab_type": "code",
        "outputId": "7ca0c856-6bca-40f1-d13f-16e36cd67ea3",
        "colab": {
          "base_uri": "https://localhost:8080/",
          "height": 50
        }
      },
      "source": [
        "import nltk\n",
        "nltk.download(\"stopwords\")\n",
        "from nltk.tokenize import RegexpTokenizer\n",
        "from nltk.stem.porter import PorterStemmer\n",
        "from nltk.corpus import stopwords\n",
        "def cleaned_data(symptoms):\n",
        "  symptoms=symptoms.lower()\n",
        "  tokenizer=RegexpTokenizer(r'\\w+')\n",
        "  token=tokenizer.tokenize(symptoms)\n",
        "  stopword=set(stopwords.words('english'))\n",
        "  new_token=[token for token in token if token not in stopword]\n",
        "  ps=PorterStemmer()\n",
        "  stem_token=[ps.stem(token)for token in new_token]\n",
        "  clean_review=' '.join(stem_token)\n",
        "  return(clean_review)\n",
        "data['new_symp']=[cleaned_data(i) for i in data['Symptoms']]\n",
        "data['new_past']=[cleaned_data(i) for i in data['past_history_of_diseases']]\n",
        "data['new_emot']=[cleaned_data(i) for i in data['emotional_problems']]\n",
        "data['new_skin']=[cleaned_data(i) for i in data['change_in_skin_color']]\n"
      ],
      "execution_count": 0,
      "outputs": [
        {
          "output_type": "stream",
          "text": [
            "[nltk_data] Downloading package stopwords to /root/nltk_data...\n",
            "[nltk_data]   Unzipping corpora/stopwords.zip.\n"
          ],
          "name": "stdout"
        }
      ]
    },
    {
      "cell_type": "code",
      "metadata": {
        "id": "wgP2uBjJqkZ8",
        "colab_type": "code",
        "colab": {}
      },
      "source": [
        "for i in data['new_past']:\n",
        "  print(i)"
      ],
      "execution_count": 0,
      "outputs": []
    },
    {
      "cell_type": "code",
      "metadata": {
        "id": "3gyrk1yGogj1",
        "colab_type": "code",
        "colab": {}
      },
      "source": [
        "from sklearn.feature_extraction.text import TfidfVectorizer, CountVectorizer\n",
        "tfidf_vec = TfidfVectorizer(stop_words='english',max_features=500)\n",
        "symp= tfidf_vec.fit_transform(data['new_symp'].values.tolist())\n",
        "symp= pd.DataFrame(symp.toarray(), columns=tfidf_vec.get_feature_names())\n",
        "tfidf_vec = TfidfVectorizer(stop_words='english',max_features=250)\n",
        "past= tfidf_vec.fit_transform(data['new_past'].values.tolist())\n",
        "past= pd.DataFrame(past.toarray(), columns=tfidf_vec.get_feature_names())\n",
        "tfidf_vec = TfidfVectorizer(stop_words='english',max_features=250)\n",
        "emot= tfidf_vec.fit_transform(data['new_emot'].values.tolist())\n",
        "emot= pd.DataFrame(emot.toarray(), columns=tfidf_vec.get_feature_names())\n",
        "tfidf_vec = TfidfVectorizer(stop_words='english',max_features=250)\n",
        "skin= tfidf_vec.fit_transform(data['new_skin'].values.tolist())\n",
        "skin= pd.DataFrame(skin.toarray(), columns=tfidf_vec.get_feature_names())\n"
      ],
      "execution_count": 0,
      "outputs": []
    },
    {
      "cell_type": "code",
      "metadata": {
        "id": "4v9SmnQTrgFl",
        "colab_type": "code",
        "colab": {}
      },
      "source": [
        "data= pd.concat([data,symp], axis=1)\n",
        "data= pd.concat([data,past], axis=1)"
      ],
      "execution_count": 0,
      "outputs": []
    },
    {
      "cell_type": "code",
      "metadata": {
        "id": "PnahI56WtTgk",
        "colab_type": "code",
        "colab": {}
      },
      "source": [
        "data= pd.concat([data,emot], axis=1)\n",
        "data= pd.concat([data,skin], axis=1)"
      ],
      "execution_count": 0,
      "outputs": []
    },
    {
      "cell_type": "code",
      "metadata": {
        "id": "0TbcAfkUtYiD",
        "colab_type": "code",
        "colab": {}
      },
      "source": [
        "l=[]\n",
        "for i in data['blood_presure']:\n",
        "  if(i=='normal' or i=='Normal'):\n",
        "    l.append(2)\n",
        "  elif(i=='low' or i=='Low'):\n",
        "    l.append(1)\n",
        "  elif(i=='high' or i=='High' or i=='hn'):\n",
        "    l.append(3)\n",
        "  else:\n",
        "    name=str(i).split('/')[0]\n",
        "    if(int(name)>130):\n",
        "      l.append(3)\n",
        "    elif(int(name)<120):\n",
        "      l.append(1)\n",
        "    else:\n",
        "      l.append(2)\n",
        "data['blood_presure']=l"
      ],
      "execution_count": 0,
      "outputs": []
    },
    {
      "cell_type": "code",
      "metadata": {
        "id": "cKvQWOAr1-Ei",
        "colab_type": "code",
        "outputId": "cf762511-70c2-4e25-8d62-f7dca6088197",
        "colab": {
          "base_uri": "https://localhost:8080/",
          "height": 101
        }
      },
      "source": [
        "data=data.drop('new_symp',axis=1)\n",
        "data=data.drop('new_past',axis=1)\n",
        "data=data.drop('new_emot',axis=1)\n",
        "data=data.drop('new_skin',axis=1)\n",
        "data.info()"
      ],
      "execution_count": 0,
      "outputs": [
        {
          "output_type": "stream",
          "text": [
            "<class 'pandas.core.frame.DataFrame'>\n",
            "Int64Index: 1094 entries, 0 to 1093\n",
            "Columns: 654 entries, travel_history_to_country to yellowish\n",
            "dtypes: float64(642), int64(8), object(4)\n",
            "memory usage: 5.5+ MB\n"
          ],
          "name": "stdout"
        }
      ]
    },
    {
      "cell_type": "code",
      "metadata": {
        "id": "YUHlvfaJvbr0",
        "colab_type": "code",
        "colab": {}
      },
      "source": [
        "\n",
        "data=data.drop('Symptoms',axis=1)\n",
        "data=data.drop('past_history_of_diseases',axis=1)\n",
        "data=data.drop('emotional_problems',axis=1)\n",
        "data=data.drop('change_in_skin_color',axis=1)"
      ],
      "execution_count": 0,
      "outputs": []
    },
    {
      "cell_type": "code",
      "metadata": {
        "id": "J-JVkgXTv3dN",
        "colab_type": "code",
        "outputId": "919fd243-4ca4-458b-e4a7-e187b51a5fa3",
        "colab": {
          "base_uri": "https://localhost:8080/",
          "height": 101
        }
      },
      "source": [
        "data.info()"
      ],
      "execution_count": 0,
      "outputs": [
        {
          "output_type": "stream",
          "text": [
            "<class 'pandas.core.frame.DataFrame'>\n",
            "Int64Index: 1094 entries, 0 to 1093\n",
            "Columns: 650 entries, travel_history_to_country to yellowish\n",
            "dtypes: float64(642), int64(8)\n",
            "memory usage: 5.4 MB\n"
          ],
          "name": "stdout"
        }
      ]
    },
    {
      "cell_type": "code",
      "metadata": {
        "id": "NwpuMv2Q6kei",
        "colab_type": "code",
        "colab": {}
      },
      "source": [
        ""
      ],
      "execution_count": 0,
      "outputs": []
    },
    {
      "cell_type": "code",
      "metadata": {
        "id": "mfT0BUu155P8",
        "colab_type": "code",
        "colab": {}
      },
      "source": [
        "ytrain.dtype\n",
        "from sklearn.model_selection import train_test_split\n",
        "xtr,xte,ytr,yte=train_test_split(data,ytrain,test_size=0.33)"
      ],
      "execution_count": 0,
      "outputs": []
    },
    {
      "cell_type": "code",
      "metadata": {
        "id": "W7rCSKYDCg-w",
        "colab_type": "code",
        "colab": {}
      },
      "source": [
        "from sklearn.ensemble import GradientBoostingClassifier\n",
        "from sklearn.model_selection import GridSearchCV\n",
        "p_test3 = {'learning_rate':[0.15,0.1,0.05,0.01,0.005,0.001], 'n_estimators':[100,200,250,350]}\n",
        "\n",
        "tuning = GridSearchCV(estimator =GradientBoostingClassifier(max_depth=4, min_samples_split=2, min_samples_leaf=1, subsample=1,max_features='sqrt', random_state=10), \n",
        "            param_grid = p_test3, scoring='accuracy',n_jobs=4,iid=False, cv=5)\n",
        "tuning.fit(data,ytrain)\n",
        "print(tuning.grid_scores_, tuning.best_params_, tuning.best_score_)"
      ],
      "execution_count": 0,
      "outputs": []
    },
    {
      "cell_type": "code",
      "metadata": {
        "id": "9b60T1JI_EWV",
        "colab_type": "code",
        "outputId": "f1ab6422-9f73-43da-e3c9-e7d72bbec7c0",
        "colab": {
          "base_uri": "https://localhost:8080/",
          "height": 34
        }
      },
      "source": [
        "from sklearn.model_selection import cross_val_score\n",
        "from sklearn.ensemble import GradientBoostingClassifier\n",
        "gbrt=GradientBoostingClassifier(n_estimators=321,max_depth=4)\n",
        "regr = cross_val_score(gbrt,data,ytrain,cv=4)\n",
        "print(regr.mean())"
      ],
      "execution_count": 0,
      "outputs": [
        {
          "output_type": "stream",
          "text": [
            "0.9442661960910137\n"
          ],
          "name": "stdout"
        }
      ]
    },
    {
      "cell_type": "code",
      "metadata": {
        "id": "_8-AzV_hnUih",
        "colab_type": "code",
        "colab": {}
      },
      "source": [
        ""
      ],
      "execution_count": 0,
      "outputs": []
    }
  ]
}