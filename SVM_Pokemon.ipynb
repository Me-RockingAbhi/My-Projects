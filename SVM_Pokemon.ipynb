{
 "cells": [
  {
   "cell_type": "code",
   "execution_count": 6,
   "metadata": {},
   "outputs": [
    {
     "name": "stderr",
     "output_type": "stream",
     "text": [
      "C:\\Users\\user\\Anaconda3\\lib\\site-packages\\PIL\\Image.py:989: UserWarning: Palette images with Transparency expressed in bytes should be converted to RGBA images\n",
      "  \"Palette images with Transparency expressed in bytes should be \"\n"
     ]
    }
   ],
   "source": [
    "import os\n",
    "from pathlib import Path\n",
    "from keras_preprocessing import image\n",
    "import matplotlib.pyplot as plt\n",
    "p=Path(\"./Images/\")\n",
    "dir=p.glob(\"*\")\n",
    "image_data=[]\n",
    "image_label=[]\n",
    "for i in dir:\n",
    "    name=(str(i).split(\"\\\\\")[-1])\n",
    "    pic=image.load_img(i,target_size=(100,100))\n",
    "    i_array=image.img_to_array(pic)\n",
    "    image_data.append(i_array)\n",
    "    image_label.append(name)\n",
    "import numpy as np\n",
    "import pandas as pd\n",
    "data=pd.read_csv(\"pokemon.csv\")\n",
    "data=data.values\n",
    "y_train=data[:,1]\n",
    "x=np.array(image_data)/255.0\n",
    "y=np.array(image_label)\n",
    "x=x.reshape(304,-1)\n",
    "from sklearn.preprocessing import LabelEncoder\n",
    "l=LabelEncoder()\n",
    "b=l.fit_transform(y_train)\n",
    "p=Path(\"./Images_test/\")\n",
    "dir=p.glob(\"*\")\n",
    "image_data2=[]\n",
    "image_label2=[]\n",
    "for i in dir:\n",
    "    name=(str(i).split(\"\\\\\")[-1])\n",
    "    pic=image.load_img(i,target_size=(100,100))\n",
    "    i_array=image.img_to_array(pic)\n",
    "    image_data2.append(i_array)\n",
    "    image_label2.append(name)\n",
    "test_data=np.array(image_data2)/255.0\n",
    "test_data=test_data.reshape((123,-1))\n",
    "test=pd.read_csv(\"pokemon_test.csv\")\n",
    "ts=pd.DataFrame()\n",
    "from sklearn import svm\n",
    "svm_classifier = svm.SVC(kernel='linear',C=0.1)\n",
    "svm_classifier.fit(x,b)\n",
    "ol=svm_classifier.predict(test_data)\n",
    "l2=l.inverse_transform(ol)\n",
    "ts['ImageId']=image_label2\n",
    "ts[\"NameOfPokemon\"]=l2\n",
    "solu=pd.merge(test,ts,on=\"ImageId\")\n",
    "solu.to_csv('abhi4.csv',index=False)"
   ]
  },
  {
   "cell_type": "code",
   "execution_count": 1,
   "metadata": {},
   "outputs": [
    {
     "ename": "ModuleNotFoundError",
     "evalue": "No module named 'boruta'",
     "output_type": "error",
     "traceback": [
      "\u001b[1;31m---------------------------------------------------------------------------\u001b[0m",
      "\u001b[1;31mModuleNotFoundError\u001b[0m                       Traceback (most recent call last)",
      "\u001b[1;32m<ipython-input-1-cc81e479d6b6>\u001b[0m in \u001b[0;36m<module>\u001b[1;34m\u001b[0m\n\u001b[0;32m      1\u001b[0m \u001b[1;32mimport\u001b[0m \u001b[0mpandas\u001b[0m \u001b[1;32mas\u001b[0m \u001b[0mpd\u001b[0m\u001b[1;33m\u001b[0m\u001b[1;33m\u001b[0m\u001b[0m\n\u001b[0;32m      2\u001b[0m \u001b[1;32mfrom\u001b[0m \u001b[0msklearn\u001b[0m\u001b[1;33m.\u001b[0m\u001b[0mensemble\u001b[0m \u001b[1;32mimport\u001b[0m \u001b[0mRandomForestClassifier\u001b[0m\u001b[1;33m\u001b[0m\u001b[1;33m\u001b[0m\u001b[0m\n\u001b[1;32m----> 3\u001b[1;33m \u001b[1;32mfrom\u001b[0m \u001b[0mboruta\u001b[0m \u001b[1;32mimport\u001b[0m \u001b[0mBorutaPy\u001b[0m\u001b[1;33m\u001b[0m\u001b[1;33m\u001b[0m\u001b[0m\n\u001b[0m\u001b[0;32m      4\u001b[0m \u001b[1;33m\u001b[0m\u001b[0m\n\u001b[0;32m      5\u001b[0m \u001b[1;31m# load X and y\u001b[0m\u001b[1;33m\u001b[0m\u001b[1;33m\u001b[0m\u001b[1;33m\u001b[0m\u001b[0m\n",
      "\u001b[1;31mModuleNotFoundError\u001b[0m: No module named 'boruta'"
     ]
    }
   ],
   "source": [
    "import pandas as pd\n",
    "from sklearn.ensemble import RandomForestClassifier\n",
    "from boruta import BorutaPy\n",
    "\n",
    "# load X and y\n",
    "# NOTE BorutaPy accepts numpy arrays only, hence the .values attribute\n",
    "X = pd.read_csv('examples/test_X.csv', index_col=0).values\n",
    "y = pd.read_csv('examples/test_y.csv', header=None, index_col=0).values\n",
    "y = y.ravel()\n",
    "\n",
    "# define random forest classifier, with utilising all cores and\n",
    "# sampling in proportion to y labels\n",
    "rf = RandomForestClassifier(n_jobs=-1, class_weight='balanced', max_depth=5)\n",
    "\n",
    "# define Boruta feature selection method\n",
    "feat_selector = BorutaPy(rf, n_estimators='auto', verbose=2, random_state=1)\n",
    "\n",
    "# find all relevant features - 5 features should be selected\n",
    "feat_selector.fit(X, y)\n",
    "\n",
    "# check selected features - first 5 features are selected\n",
    "feat_selector.support_\n",
    "\n",
    "# check ranking of features\n",
    "feat_selector.ranking_\n",
    "\n",
    "# call transform() on X to filter it down to selected features\n",
    "X_filtered = feat_selector.transform(X)"
   ]
  },
  {
   "cell_type": "code",
   "execution_count": null,
   "metadata": {},
   "outputs": [],
   "source": []
  }
 ],
 "metadata": {
  "kernelspec": {
   "display_name": "Python 3",
   "language": "python",
   "name": "python3"
  },
  "language_info": {
   "codemirror_mode": {
    "name": "ipython",
    "version": 3
   },
   "file_extension": ".py",
   "mimetype": "text/x-python",
   "name": "python",
   "nbconvert_exporter": "python",
   "pygments_lexer": "ipython3",
   "version": "3.7.4"
  }
 },
 "nbformat": 4,
 "nbformat_minor": 2
}
