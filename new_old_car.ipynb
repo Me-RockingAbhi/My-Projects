{
 "cells": [
  {
   "cell_type": "code",
   "execution_count": 7,
   "metadata": {
    "scrolled": false
   },
   "outputs": [
    {
     "name": "stdout",
     "output_type": "stream",
     "text": [
      "Year                    0\n",
      "Model                   0\n",
      "Kilometers_Driven       0\n",
      "Fuel_Type               0\n",
      "Transmission            0\n",
      "Owner_Type              0\n",
      "Mileage                 2\n",
      "Engine                 46\n",
      "Power                  46\n",
      "Seats                  53\n",
      "New_Price            6247\n",
      "dtype: int64\n"
     ]
    },
    {
     "name": "stderr",
     "output_type": "stream",
     "text": [
      "C:\\Users\\user\\Anaconda3\\lib\\site-packages\\ipykernel_launcher.py:72: SettingWithCopyWarning: \n",
      "A value is trying to be set on a copy of a slice from a DataFrame.\n",
      "Try using .loc[row_indexer,col_indexer] = value instead\n",
      "\n",
      "See the caveats in the documentation: http://pandas.pydata.org/pandas-docs/stable/user_guide/indexing.html#returning-a-view-versus-a-copy\n",
      "C:\\Users\\user\\Anaconda3\\lib\\site-packages\\pandas\\core\\generic.py:5208: SettingWithCopyWarning: \n",
      "A value is trying to be set on a copy of a slice from a DataFrame.\n",
      "Try using .loc[row_indexer,col_indexer] = value instead\n",
      "\n",
      "See the caveats in the documentation: http://pandas.pydata.org/pandas-docs/stable/user_guide/indexing.html#returning-a-view-versus-a-copy\n",
      "  self[name] = value\n",
      "C:\\Users\\user\\Anaconda3\\lib\\site-packages\\ipykernel_launcher.py:74: SettingWithCopyWarning: \n",
      "A value is trying to be set on a copy of a slice from a DataFrame.\n",
      "Try using .loc[row_indexer,col_indexer] = value instead\n",
      "\n",
      "See the caveats in the documentation: http://pandas.pydata.org/pandas-docs/stable/user_guide/indexing.html#returning-a-view-versus-a-copy\n",
      "C:\\Users\\user\\Anaconda3\\lib\\site-packages\\ipykernel_launcher.py:76: SettingWithCopyWarning: \n",
      "A value is trying to be set on a copy of a slice from a DataFrame.\n",
      "Try using .loc[row_indexer,col_indexer] = value instead\n",
      "\n",
      "See the caveats in the documentation: http://pandas.pydata.org/pandas-docs/stable/user_guide/indexing.html#returning-a-view-versus-a-copy\n",
      "C:\\Users\\user\\Anaconda3\\lib\\site-packages\\ipykernel_launcher.py:78: SettingWithCopyWarning: \n",
      "A value is trying to be set on a copy of a slice from a DataFrame.\n",
      "Try using .loc[row_indexer,col_indexer] = value instead\n",
      "\n",
      "See the caveats in the documentation: http://pandas.pydata.org/pandas-docs/stable/user_guide/indexing.html#returning-a-view-versus-a-copy\n",
      "C:\\Users\\user\\Anaconda3\\lib\\site-packages\\ipykernel_launcher.py:83: SettingWithCopyWarning: \n",
      "A value is trying to be set on a copy of a slice from a DataFrame.\n",
      "Try using .loc[row_indexer,col_indexer] = value instead\n",
      "\n",
      "See the caveats in the documentation: http://pandas.pydata.org/pandas-docs/stable/user_guide/indexing.html#returning-a-view-versus-a-copy\n",
      "C:\\Users\\user\\Anaconda3\\lib\\site-packages\\ipykernel_launcher.py:85: SettingWithCopyWarning: \n",
      "A value is trying to be set on a copy of a slice from a DataFrame.\n",
      "Try using .loc[row_indexer,col_indexer] = value instead\n",
      "\n",
      "See the caveats in the documentation: http://pandas.pydata.org/pandas-docs/stable/user_guide/indexing.html#returning-a-view-versus-a-copy\n",
      "C:\\Users\\user\\Anaconda3\\lib\\site-packages\\ipykernel_launcher.py:87: SettingWithCopyWarning: \n",
      "A value is trying to be set on a copy of a slice from a DataFrame.\n",
      "Try using .loc[row_indexer,col_indexer] = value instead\n",
      "\n",
      "See the caveats in the documentation: http://pandas.pydata.org/pandas-docs/stable/user_guide/indexing.html#returning-a-view-versus-a-copy\n",
      "C:\\Users\\user\\Anaconda3\\lib\\site-packages\\ipykernel_launcher.py:89: SettingWithCopyWarning: \n",
      "A value is trying to be set on a copy of a slice from a DataFrame.\n",
      "Try using .loc[row_indexer,col_indexer] = value instead\n",
      "\n",
      "See the caveats in the documentation: http://pandas.pydata.org/pandas-docs/stable/user_guide/indexing.html#returning-a-view-versus-a-copy\n",
      "C:\\Users\\user\\Anaconda3\\lib\\site-packages\\ipykernel_launcher.py:98: SettingWithCopyWarning: \n",
      "A value is trying to be set on a copy of a slice from a DataFrame.\n",
      "Try using .loc[row_indexer,col_indexer] = value instead\n",
      "\n",
      "See the caveats in the documentation: http://pandas.pydata.org/pandas-docs/stable/user_guide/indexing.html#returning-a-view-versus-a-copy\n",
      "C:\\Users\\user\\Anaconda3\\lib\\site-packages\\ipykernel_launcher.py:104: SettingWithCopyWarning: \n",
      "A value is trying to be set on a copy of a slice from a DataFrame.\n",
      "Try using .loc[row_indexer,col_indexer] = value instead\n",
      "\n",
      "See the caveats in the documentation: http://pandas.pydata.org/pandas-docs/stable/user_guide/indexing.html#returning-a-view-versus-a-copy\n",
      "C:\\Users\\user\\Anaconda3\\lib\\site-packages\\sklearn\\ensemble\\bagging.py:398: DataConversionWarning: A column-vector y was passed when a 1d array was expected. Please change the shape of y to (n_samples, ), for example using ravel().\n",
      "  return column_or_1d(y, warn=True)\n"
     ]
    }
   ],
   "source": [
    "import numpy as np\n",
    "import pandas as pd\n",
    "use_col=[\"Name\",\"Kilometers_Driven\",\"Year\",\"Fuel_Type\",\"Transmission\",\"Mileage\",\"Engine\",\"Power\",\"Seats\",\"Owner_Type\",\"New_Price\"]\n",
    "use_col2=[\"Price\"]\n",
    "y_train=pd.read_excel(\"used_car_Data_Train.xlsx\",usecols=use_col2)\n",
    "y_trainn=y_train.values\n",
    "data=pd.read_excel(\"used_car_Data_Train.xlsx\",usecols=use_col)\n",
    "data2=pd.read_excel(\"used_cars_Data_Test.xlsx\",usecols=use_col)\n",
    "re=data.append(data2,sort=False)\n",
    "l=[]\n",
    "l1=[]\n",
    "for i in re['Name']:\n",
    "    i=str(i)\n",
    "    i=i.split(\" \")\n",
    "    l.append(i[0])\n",
    "    l1.append(i[1])\n",
    "Company=pd.DataFrame()\n",
    "Company=l\n",
    "Model=pd.DataFrame()\n",
    "Model=l1\n",
    "re=re.drop(columns=['Name'])\n",
    "re.insert(1,'Model',Model,True)\n",
    "print(re.isnull().sum())\n",
    "from sklearn import preprocessing\n",
    "le = preprocessing.LabelEncoder()\n",
    "re['Model']=le.fit_transform(re['Model'])\n",
    "le = preprocessing.LabelEncoder()\n",
    "re['Transmission']=le.fit_transform(re['Transmission'])\n",
    "le = preprocessing.LabelEncoder()\n",
    "re['Fuel_Type']=le.fit_transform(re['Fuel_Type'])\n",
    "le = preprocessing.LabelEncoder()\n",
    "re['Owner_Type']=le.fit_transform(re['Owner_Type'])\n",
    "l=[]\n",
    "for i in re['New_Price']:\n",
    "    i=str(i)\n",
    "    if(i=='null'):\n",
    "        l.append(0)\n",
    "    else:\n",
    "        l.append(1)\n",
    "re['New_Price']=l\n",
    "l=[]\n",
    "for i in re['Power']:\n",
    "    i=str(i)\n",
    "    i=i.split(\" \")\n",
    "    if(i[0]=='null'):\n",
    "        l.append(np.nan)\n",
    "    else:\n",
    "        l.append(float(i[0]))\n",
    "re['Power']=l\n",
    "l=[]\n",
    "for i in re['Engine']:\n",
    "    i=str(i)\n",
    "    i=i.split(\" \")\n",
    "    if(i[0]=='null'):\n",
    "        l.append(np.nan)\n",
    "    else:\n",
    "        l.append(float(i[0]))\n",
    "re['Engine']=l\n",
    "l=[]\n",
    "for i in re['Mileage']:\n",
    "    i=str(i)\n",
    "    i=i.split(\" \")\n",
    "    if(i[0]=='null'):\n",
    "        l.append(np.nan)\n",
    "    else:\n",
    "        l.append(float(i[0]))\n",
    "re['Mileage']=l\n",
    "x_train=re[:6019]\n",
    "x_test=re[6019:]\n",
    "#print(re.head())\n",
    "#x_train[x_train.index.duplicated()]\n",
    "x_train['Power'] = x_train.groupby(['Model','Year'], sort=False)['Power'].apply(lambda x:x.fillna(x.mean()))\n",
    "x_train.Power= x_train.Power.fillna(x_train['Power'].mean())\n",
    "x_train['Seats'] = x_train.groupby(['Model','Year'], sort=False)['Seats'].apply(lambda x:x.fillna(x.mean()))\n",
    "x_train.Seats= x_train.Seats.fillna(x_train['Seats'].mean())\n",
    "x_train['Engine'] = x_train.groupby(['Model','Year'], sort=False)['Engine'].apply(lambda x:x.fillna(x.mean()))\n",
    "x_train.Engine= x_train.Engine.fillna(x_train['Engine'].mean())\n",
    "x_train['Mileage'] = x_train.groupby(['Model','Year'], sort=False)['Mileage'].apply(lambda x:x.fillna(x.mean()))\n",
    "x_train.Mileage= x_train.Mileage.fillna(x_train['Mileage'].mean())\n",
    "\n",
    "#Similiar Thing For Test Data\n",
    "\n",
    "x_test['Power'] = x_test.groupby(['Model','Year'], sort=False)['Power'].apply(lambda x:x.fillna(x.mean()))\n",
    "x_test.Power= x_test.Power.fillna(x_test['Power'].mean())\n",
    "x_test['Seats'] = x_test.groupby(['Model','Year'], sort=False)['Seats'].apply(lambda x:x.fillna(x.mean()))\n",
    "x_test.Seats= x_test.Seats.fillna(x_test['Seats'].mean())\n",
    "x_test['Engine'] = x_test.groupby(['Model','Year'], sort=False)['Engine'].apply(lambda x:x.fillna(x.mean()))\n",
    "x_test.Engine= x_test.Engine.fillna(x_test['Engine'].mean())\n",
    "x_test['Mileage'] = x_test.groupby(['Model','Year'], sort=False)['Mileage'].apply(lambda x:x.fillna(x.mean()))\n",
    "x_test.Mileage= x_test.Mileage.fillna(x_test['Mileage'].mean())\n",
    "from sklearn.ensemble import GradientBoostingRegressor\n",
    "from sklearn.model_selection import cross_val_score\n",
    "l=[]\n",
    "new_c=pd.DataFrame()\n",
    "for i in range(len(x_train['Power'])):\n",
    "    k1=(x_train['Power'][i]*x_train['Engine'][i])/x_train['Kilometers_Driven'][i];\n",
    "    l.append(k1)\n",
    "x_train['new_c']=l\n",
    "l=[]\n",
    "new_c=pd.DataFrame()\n",
    "for i in range(len(x_test['Power'])):\n",
    "    k1=(x_test['Power'][i]*x_test['Engine'][i])/x_test['Kilometers_Driven'][i];\n",
    "    l.append(k1)\n",
    "x_test['new_c']=l\n",
    "gbrt=GradientBoostingRegressor(n_estimators=321,max_depth=4)\n",
    "from sklearn.ensemble import BaggingRegressor\n",
    "regr = BaggingRegressor(base_estimator=gbrt,n_estimators=60, random_state=0).fit(x_train, y_train)\n",
    "ans=regr.predict(x_test)\n",
    "sol1=pd.DataFrame()\n",
    "sol1['Price']=ans\n",
    "sol1.to_excel('oldcar50.xlsx',index=False)\n",
    "#bool_series = pd.isnull(x_train[\"Seats\"])\n",
    "#x_train[bool_series]\"\"\""
   ]
  },
  {
   "cell_type": "code",
   "execution_count": null,
   "metadata": {},
   "outputs": [],
   "source": [
    "\n"
   ]
  },
  {
   "cell_type": "code",
   "execution_count": null,
   "metadata": {},
   "outputs": [],
   "source": []
  },
  {
   "cell_type": "code",
   "execution_count": null,
   "metadata": {},
   "outputs": [],
   "source": []
  },
  {
   "cell_type": "code",
   "execution_count": null,
   "metadata": {},
   "outputs": [],
   "source": [
    "\n",
    "\n",
    "\n",
    "\n"
   ]
  },
  {
   "cell_type": "code",
   "execution_count": null,
   "metadata": {},
   "outputs": [],
   "source": [
    "\n"
   ]
  },
  {
   "cell_type": "code",
   "execution_count": null,
   "metadata": {},
   "outputs": [],
   "source": [
    "\n",
    "\n",
    "\n",
    "\n"
   ]
  },
  {
   "cell_type": "code",
   "execution_count": null,
   "metadata": {},
   "outputs": [],
   "source": [
    "\n"
   ]
  },
  {
   "cell_type": "code",
   "execution_count": null,
   "metadata": {},
   "outputs": [],
   "source": [
    "\n"
   ]
  },
  {
   "cell_type": "code",
   "execution_count": null,
   "metadata": {},
   "outputs": [],
   "source": [
    "\n"
   ]
  },
  {
   "cell_type": "code",
   "execution_count": null,
   "metadata": {},
   "outputs": [],
   "source": [
    "\n"
   ]
  },
  {
   "cell_type": "code",
   "execution_count": null,
   "metadata": {},
   "outputs": [],
   "source": [
    "\n"
   ]
  },
  {
   "cell_type": "code",
   "execution_count": null,
   "metadata": {},
   "outputs": [],
   "source": []
  }
 ],
 "metadata": {
  "kernelspec": {
   "display_name": "Python 3",
   "language": "python",
   "name": "python3"
  },
  "language_info": {
   "codemirror_mode": {
    "name": "ipython",
    "version": 3
   },
   "file_extension": ".py",
   "mimetype": "text/x-python",
   "name": "python",
   "nbconvert_exporter": "python",
   "pygments_lexer": "ipython3",
   "version": "3.7.4"
  }
 },
 "nbformat": 4,
 "nbformat_minor": 2
}
