{
 "cells": [
  {
   "cell_type": "code",
   "execution_count": 6,
   "metadata": {},
   "outputs": [],
   "source": []
  },
  {
   "cell_type": "code",
   "execution_count": 1,
   "metadata": {
    "scrolled": true
   },
   "outputs": [],
   "source": [
    "import cv2\n",
    "face_cascade=cv2.CascadeClassifier(\"haarcascade_frontalface_default.xml\")"
   ]
  },
  {
   "cell_type": "code",
   "execution_count": 3,
   "metadata": {},
   "outputs": [
    {
     "name": "stdout",
     "output_type": "stream",
     "text": [
      "1\n",
      "2\n",
      "3\n",
      "4\n",
      "5\n",
      "6\n",
      "7\n",
      "8\n",
      "9\n",
      "10\n",
      "11\n",
      "12\n",
      "13\n",
      "14\n",
      "15\n",
      "16\n",
      "17\n",
      "18\n",
      "19\n",
      "20\n",
      "21\n",
      "22\n",
      "23\n",
      "24\n",
      "25\n",
      "26\n",
      "27\n",
      "28\n",
      "29\n",
      "30\n",
      "31\n",
      "32\n",
      "33\n",
      "34\n",
      "35\n",
      "36\n",
      "37\n",
      "38\n",
      "39\n",
      "40\n",
      "41\n",
      "(41, 30000)\n",
      "*\n"
     ]
    }
   ],
   "source": [
    "import numpy as np\n",
    "data_path='./face_data/'\n",
    "cap=cv2.VideoCapture(0)\n",
    "skip=0;\n",
    "face_data=[]\n",
    "while True:\n",
    "  ret,frame=cap.read() \n",
    "  if(ret==False):\n",
    "    continue\n",
    "  faces=face_cascade.detectMultiScale(frame,1.3,5)\n",
    "  faces=sorted(faces,key=lambda f:f[2]*f[3])\n",
    "  for face in faces[-1:]:\n",
    "    x,y,w,h=face\n",
    "    cv2.rectangle(frame,(x,y),(x+w,y+h),(0,255,0),2)\n",
    "    #Extract(crop out the required face):region of intrest\n",
    "    offset=10 #(In a face giving a padding of 10 px)\n",
    "    face_section=frame[y-offset:y+h+offset,x-offset:x+w+offset]\n",
    "    face_section=cv2.resize(face_section,(100,100))\n",
    "    skip=skip+1\n",
    "    if skip%10==0:\n",
    "        face_data.append(face_section)\n",
    "        print(len(face_data))\n",
    "  cv2.imshow(\"video frame\",frame)\n",
    "  key_pressed=cv2.waitKey(1)&0xFF\n",
    "  if(key_pressed==ord('q')):\n",
    "    break;\n",
    "face_data=np.asarray(face_data)\n",
    "face_data=face_data.reshape((face_data.shape[0],-1))\n",
    "print(face_data.shape)\n",
    "np.save(data_path+\"Aditya\"+'.npy',face_data)\n",
    "print(\"*\")\n",
    "cap.release()\n",
    "cv2.destroyAllWindows()"
   ]
  },
  {
   "cell_type": "code",
   "execution_count": null,
   "metadata": {},
   "outputs": [],
   "source": [
    "from keras.models import load_model\n",
    "model=load_model(\"face-classify.h5\")"
   ]
  },
  {
   "cell_type": "code",
   "execution_count": null,
   "metadata": {},
   "outputs": [],
   "source": []
  },
  {
   "cell_type": "code",
   "execution_count": null,
   "metadata": {},
   "outputs": [],
   "source": []
  }
 ],
 "metadata": {
  "kernelspec": {
   "display_name": "Python 3",
   "language": "python",
   "name": "python3"
  },
  "language_info": {
   "codemirror_mode": {
    "name": "ipython",
    "version": 3
   },
   "file_extension": ".py",
   "mimetype": "text/x-python",
   "name": "python",
   "nbconvert_exporter": "python",
   "pygments_lexer": "ipython3",
   "version": "3.7.4"
  }
 },
 "nbformat": 4,
 "nbformat_minor": 2
}
