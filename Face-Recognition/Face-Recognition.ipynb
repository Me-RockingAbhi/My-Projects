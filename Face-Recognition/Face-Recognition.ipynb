{
 "cells": [
  {
   "cell_type": "code",
   "execution_count": null,
   "metadata": {},
   "outputs": [],
   "source": [
    "from keras.models import load_model\n",
    "import cv2\n",
    "face_cascade=cv2.CascadeClassifier(\"haarcascade_frontalface_default.xml\")\n",
    "model=load_model(\"face-classify.h5\")\n",
    "face_data=[]\n",
    "cap=cv2.VideoCapture(0)\n",
    "while True:\n",
    "  ret,frame=cap.read() \n",
    "  if(ret==False):\n",
    "    continue\n",
    "  faces=face_cascade.detectMultiScale(frame,1.3,5)\n",
    "  for face in faces:\n",
    "    x,y,w,h=face\n",
    "    #Extract(crop out the required face):region of intrest\n",
    "    offset=10 #(In a face giving a padding of 10 px)\n",
    "    face_section=frame[y-offset:y+h+offset,x-offset:x+w+offset]\n",
    "    face_section=cv2.resize(face_section,(100,100))\n",
    "    out=model.predict_classes(face_section.flatten())\n",
    "    if(out==0):\n",
    "        pred_name=\"Abhishek\"\n",
    "    else:\n",
    "        pred_name=\"Aditya\"\n",
    "    cv2.putText(frame,pred_name,(x,y-10),cv2.FONT_HERSHEY_SIMPLEX,1,(255,255,0),2,CV2.LINE_AA)\n",
    "    cv2.imshow(\"video frame\",frame)\n",
    "    key_pressed=cv2.waitKey(1)&0xFF\n",
    "    if(key_pressed==ord('q')):\n",
    "        break;\n",
    "cap.release()\n",
    "cv2.destroyAllWindows()"
   ]
  }
 ],
 "metadata": {
  "kernelspec": {
   "display_name": "Python 3",
   "language": "python",
   "name": "python3"
  },
  "language_info": {
   "codemirror_mode": {
    "name": "ipython",
    "version": 3
   },
   "file_extension": ".py",
   "mimetype": "text/x-python",
   "name": "python",
   "nbconvert_exporter": "python",
   "pygments_lexer": "ipython3",
   "version": "3.7.4"
  }
 },
 "nbformat": 4,
 "nbformat_minor": 2
}
